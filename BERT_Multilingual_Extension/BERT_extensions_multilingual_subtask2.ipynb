{
  "cells": [
    {
      "cell_type": "markdown",
      "metadata": {
        "id": "view-in-github",
        "colab_type": "text"
      },
      "source": [
        "<a href=\"https://colab.research.google.com/github/hafezgh/Hate-Speech-Detection-in-Social-Media/blob/main/BERT_Multilingual_Extension/BERT_extensions_multilingual_subtask2.ipynb\" target=\"_parent\"><img src=\"https://colab.research.google.com/assets/colab-badge.svg\" alt=\"Open In Colab\"/></a>"
      ]
    },
    {
      "cell_type": "markdown",
      "metadata": {
        "id": "s4ga5LLSSPQN"
      },
      "source": [
        "# Imports"
      ]
    },
    {
      "cell_type": "code",
      "execution_count": 1,
      "metadata": {
        "colab": {
          "base_uri": "https://localhost:8080/"
        },
        "id": "lqOFKm6QLoua",
        "outputId": "b2c18ddc-f620-466b-903f-0eb8728b520f"
      },
      "outputs": [
        {
          "output_type": "stream",
          "name": "stdout",
          "text": [
            "Collecting transformers==3.0.0\n",
            "  Downloading transformers-3.0.0-py3-none-any.whl (754 kB)\n",
            "\u001b[?25l\r\u001b[K     |▍                               | 10 kB 3.1 MB/s eta 0:00:01\r\u001b[K     |▉                               | 20 kB 4.1 MB/s eta 0:00:01\r\u001b[K     |█▎                              | 30 kB 4.1 MB/s eta 0:00:01\r\u001b[K     |█▊                              | 40 kB 3.4 MB/s eta 0:00:01\r\u001b[K     |██▏                             | 51 kB 3.3 MB/s eta 0:00:01\r\u001b[K     |██▋                             | 61 kB 3.6 MB/s eta 0:00:01\r\u001b[K     |███                             | 71 kB 3.6 MB/s eta 0:00:01\r\u001b[K     |███▌                            | 81 kB 4.1 MB/s eta 0:00:01\r\u001b[K     |████                            | 92 kB 4.2 MB/s eta 0:00:01\r\u001b[K     |████▍                           | 102 kB 3.6 MB/s eta 0:00:01\r\u001b[K     |████▊                           | 112 kB 3.6 MB/s eta 0:00:01\r\u001b[K     |█████▏                          | 122 kB 3.6 MB/s eta 0:00:01\r\u001b[K     |█████▋                          | 133 kB 3.6 MB/s eta 0:00:01\r\u001b[K     |██████                          | 143 kB 3.6 MB/s eta 0:00:01\r\u001b[K     |██████▌                         | 153 kB 3.6 MB/s eta 0:00:01\r\u001b[K     |███████                         | 163 kB 3.6 MB/s eta 0:00:01\r\u001b[K     |███████▍                        | 174 kB 3.6 MB/s eta 0:00:01\r\u001b[K     |███████▉                        | 184 kB 3.6 MB/s eta 0:00:01\r\u001b[K     |████████▎                       | 194 kB 3.6 MB/s eta 0:00:01\r\u001b[K     |████████▊                       | 204 kB 3.6 MB/s eta 0:00:01\r\u001b[K     |█████████▏                      | 215 kB 3.6 MB/s eta 0:00:01\r\u001b[K     |█████████▌                      | 225 kB 3.6 MB/s eta 0:00:01\r\u001b[K     |██████████                      | 235 kB 3.6 MB/s eta 0:00:01\r\u001b[K     |██████████▍                     | 245 kB 3.6 MB/s eta 0:00:01\r\u001b[K     |██████████▉                     | 256 kB 3.6 MB/s eta 0:00:01\r\u001b[K     |███████████▎                    | 266 kB 3.6 MB/s eta 0:00:01\r\u001b[K     |███████████▊                    | 276 kB 3.6 MB/s eta 0:00:01\r\u001b[K     |████████████▏                   | 286 kB 3.6 MB/s eta 0:00:01\r\u001b[K     |████████████▋                   | 296 kB 3.6 MB/s eta 0:00:01\r\u001b[K     |█████████████                   | 307 kB 3.6 MB/s eta 0:00:01\r\u001b[K     |█████████████▌                  | 317 kB 3.6 MB/s eta 0:00:01\r\u001b[K     |██████████████                  | 327 kB 3.6 MB/s eta 0:00:01\r\u001b[K     |██████████████▎                 | 337 kB 3.6 MB/s eta 0:00:01\r\u001b[K     |██████████████▊                 | 348 kB 3.6 MB/s eta 0:00:01\r\u001b[K     |███████████████▏                | 358 kB 3.6 MB/s eta 0:00:01\r\u001b[K     |███████████████▋                | 368 kB 3.6 MB/s eta 0:00:01\r\u001b[K     |████████████████                | 378 kB 3.6 MB/s eta 0:00:01\r\u001b[K     |████████████████▌               | 389 kB 3.6 MB/s eta 0:00:01\r\u001b[K     |█████████████████               | 399 kB 3.6 MB/s eta 0:00:01\r\u001b[K     |█████████████████▍              | 409 kB 3.6 MB/s eta 0:00:01\r\u001b[K     |█████████████████▉              | 419 kB 3.6 MB/s eta 0:00:01\r\u001b[K     |██████████████████▎             | 430 kB 3.6 MB/s eta 0:00:01\r\u001b[K     |██████████████████▊             | 440 kB 3.6 MB/s eta 0:00:01\r\u001b[K     |███████████████████             | 450 kB 3.6 MB/s eta 0:00:01\r\u001b[K     |███████████████████▌            | 460 kB 3.6 MB/s eta 0:00:01\r\u001b[K     |████████████████████            | 471 kB 3.6 MB/s eta 0:00:01\r\u001b[K     |████████████████████▍           | 481 kB 3.6 MB/s eta 0:00:01\r\u001b[K     |████████████████████▉           | 491 kB 3.6 MB/s eta 0:00:01\r\u001b[K     |█████████████████████▎          | 501 kB 3.6 MB/s eta 0:00:01\r\u001b[K     |█████████████████████▊          | 512 kB 3.6 MB/s eta 0:00:01\r\u001b[K     |██████████████████████▏         | 522 kB 3.6 MB/s eta 0:00:01\r\u001b[K     |██████████████████████▋         | 532 kB 3.6 MB/s eta 0:00:01\r\u001b[K     |███████████████████████         | 542 kB 3.6 MB/s eta 0:00:01\r\u001b[K     |███████████████████████▌        | 552 kB 3.6 MB/s eta 0:00:01\r\u001b[K     |███████████████████████▉        | 563 kB 3.6 MB/s eta 0:00:01\r\u001b[K     |████████████████████████▎       | 573 kB 3.6 MB/s eta 0:00:01\r\u001b[K     |████████████████████████▊       | 583 kB 3.6 MB/s eta 0:00:01\r\u001b[K     |█████████████████████████▏      | 593 kB 3.6 MB/s eta 0:00:01\r\u001b[K     |█████████████████████████▋      | 604 kB 3.6 MB/s eta 0:00:01\r\u001b[K     |██████████████████████████      | 614 kB 3.6 MB/s eta 0:00:01\r\u001b[K     |██████████████████████████▌     | 624 kB 3.6 MB/s eta 0:00:01\r\u001b[K     |███████████████████████████     | 634 kB 3.6 MB/s eta 0:00:01\r\u001b[K     |███████████████████████████▍    | 645 kB 3.6 MB/s eta 0:00:01\r\u001b[K     |███████████████████████████▉    | 655 kB 3.6 MB/s eta 0:00:01\r\u001b[K     |████████████████████████████▎   | 665 kB 3.6 MB/s eta 0:00:01\r\u001b[K     |████████████████████████████▋   | 675 kB 3.6 MB/s eta 0:00:01\r\u001b[K     |█████████████████████████████   | 686 kB 3.6 MB/s eta 0:00:01\r\u001b[K     |█████████████████████████████▌  | 696 kB 3.6 MB/s eta 0:00:01\r\u001b[K     |██████████████████████████████  | 706 kB 3.6 MB/s eta 0:00:01\r\u001b[K     |██████████████████████████████▍ | 716 kB 3.6 MB/s eta 0:00:01\r\u001b[K     |██████████████████████████████▉ | 727 kB 3.6 MB/s eta 0:00:01\r\u001b[K     |███████████████████████████████▎| 737 kB 3.6 MB/s eta 0:00:01\r\u001b[K     |███████████████████████████████▊| 747 kB 3.6 MB/s eta 0:00:01\r\u001b[K     |████████████████████████████████| 754 kB 3.6 MB/s \n",
            "\u001b[?25hRequirement already satisfied: regex!=2019.12.17 in /usr/local/lib/python3.7/dist-packages (from transformers==3.0.0) (2019.12.20)\n",
            "Collecting sacremoses\n",
            "  Downloading sacremoses-0.0.47-py2.py3-none-any.whl (895 kB)\n",
            "\u001b[K     |████████████████████████████████| 895 kB 60.7 MB/s \n",
            "\u001b[?25hCollecting sentencepiece\n",
            "  Downloading sentencepiece-0.1.96-cp37-cp37m-manylinux_2_17_x86_64.manylinux2014_x86_64.whl (1.2 MB)\n",
            "\u001b[K     |████████████████████████████████| 1.2 MB 59.8 MB/s \n",
            "\u001b[?25hRequirement already satisfied: requests in /usr/local/lib/python3.7/dist-packages (from transformers==3.0.0) (2.23.0)\n",
            "Requirement already satisfied: numpy in /usr/local/lib/python3.7/dist-packages (from transformers==3.0.0) (1.19.5)\n",
            "Requirement already satisfied: tqdm>=4.27 in /usr/local/lib/python3.7/dist-packages (from transformers==3.0.0) (4.62.3)\n",
            "Collecting tokenizers==0.8.0-rc4\n",
            "  Downloading tokenizers-0.8.0rc4-cp37-cp37m-manylinux1_x86_64.whl (3.0 MB)\n",
            "\u001b[K     |████████████████████████████████| 3.0 MB 80.7 MB/s \n",
            "\u001b[?25hRequirement already satisfied: packaging in /usr/local/lib/python3.7/dist-packages (from transformers==3.0.0) (21.3)\n",
            "Requirement already satisfied: filelock in /usr/local/lib/python3.7/dist-packages (from transformers==3.0.0) (3.4.2)\n",
            "Requirement already satisfied: pyparsing!=3.0.5,>=2.0.2 in /usr/local/lib/python3.7/dist-packages (from packaging->transformers==3.0.0) (3.0.7)\n",
            "Requirement already satisfied: idna<3,>=2.5 in /usr/local/lib/python3.7/dist-packages (from requests->transformers==3.0.0) (2.10)\n",
            "Requirement already satisfied: urllib3!=1.25.0,!=1.25.1,<1.26,>=1.21.1 in /usr/local/lib/python3.7/dist-packages (from requests->transformers==3.0.0) (1.24.3)\n",
            "Requirement already satisfied: certifi>=2017.4.17 in /usr/local/lib/python3.7/dist-packages (from requests->transformers==3.0.0) (2021.10.8)\n",
            "Requirement already satisfied: chardet<4,>=3.0.2 in /usr/local/lib/python3.7/dist-packages (from requests->transformers==3.0.0) (3.0.4)\n",
            "Requirement already satisfied: joblib in /usr/local/lib/python3.7/dist-packages (from sacremoses->transformers==3.0.0) (1.1.0)\n",
            "Requirement already satisfied: six in /usr/local/lib/python3.7/dist-packages (from sacremoses->transformers==3.0.0) (1.15.0)\n",
            "Requirement already satisfied: click in /usr/local/lib/python3.7/dist-packages (from sacremoses->transformers==3.0.0) (7.1.2)\n",
            "Installing collected packages: tokenizers, sentencepiece, sacremoses, transformers\n",
            "Successfully installed sacremoses-0.0.47 sentencepiece-0.1.96 tokenizers-0.8.0rc4 transformers-3.0.0\n",
            "Collecting emoji\n",
            "  Downloading emoji-1.6.3.tar.gz (174 kB)\n",
            "\u001b[K     |████████████████████████████████| 174 kB 4.2 MB/s \n",
            "\u001b[?25hBuilding wheels for collected packages: emoji\n",
            "  Building wheel for emoji (setup.py) ... \u001b[?25l\u001b[?25hdone\n",
            "  Created wheel for emoji: filename=emoji-1.6.3-py3-none-any.whl size=170298 sha256=f8c38046c09e70637cc6ebf770ecee1f4b9a618013c8b2c39e024ecb4f426170\n",
            "  Stored in directory: /root/.cache/pip/wheels/03/8b/d7/ad579fbef83c287215c0caab60fb0ae0f30c4d7ce5f580eade\n",
            "Successfully built emoji\n",
            "Installing collected packages: emoji\n",
            "Successfully installed emoji-1.6.3\n"
          ]
        }
      ],
      "source": [
        "!pip install transformers==3.0.0\n",
        "!pip install emoji\n",
        "import gc\n",
        "import os\n",
        "import emoji as emoji\n",
        "import re\n",
        "import string\n",
        "import numpy as np\n",
        "import pandas as pd\n",
        "import torch\n",
        "import torch.nn as nn\n",
        "from sklearn.model_selection import train_test_split\n",
        "from sklearn.metrics import classification_report, accuracy_score\n",
        "from transformers import AutoModel\n",
        "from transformers import BertModel, BertTokenizer\n",
        "import copy\n",
        "from sklearn.preprocessing import LabelEncoder\n",
        "\n",
        "\n",
        "import warnings\n",
        "warnings.filterwarnings('ignore')"
      ]
    },
    {
      "cell_type": "code",
      "execution_count": 2,
      "metadata": {
        "colab": {
          "base_uri": "https://localhost:8080/"
        },
        "id": "f3lx2XKTSOn6",
        "outputId": "56ae5bf1-05ac-4a55-d2c1-d3eaa889d4ea"
      },
      "outputs": [
        {
          "output_type": "stream",
          "name": "stdout",
          "text": [
            "Cloning into 'hasoc-fire-2020'...\n",
            "remote: Enumerating objects: 35, done.\u001b[K\n",
            "remote: Counting objects: 100% (35/35), done.\u001b[K\n",
            "remote: Compressing objects: 100% (31/31), done.\u001b[K\n",
            "remote: Total 35 (delta 7), reused 0 (delta 0), pack-reused 0\u001b[K\n",
            "Unpacking objects: 100% (35/35), done.\n"
          ]
        }
      ],
      "source": [
        "!git clone https://github.com/suman101112/hasoc-fire-2020"
      ]
    },
    {
      "cell_type": "markdown",
      "metadata": {
        "id": "EuSosYM7cRvu"
      },
      "source": [
        "# Read and prepare data\n"
      ]
    },
    {
      "cell_type": "code",
      "execution_count": 14,
      "metadata": {
        "colab": {
          "base_uri": "https://localhost:8080/",
          "height": 206
        },
        "id": "FEVTapdDccBw",
        "outputId": "d1ed94b2-e867-4717-e250-d6b4f3bb7250"
      },
      "outputs": [
        {
          "output_type": "execute_result",
          "data": {
            "text/html": [
              "\n",
              "  <div id=\"df-5e5c6279-b7e0-4718-b649-ceb9363f7c17\">\n",
              "    <div class=\"colab-df-container\">\n",
              "      <div>\n",
              "<style scoped>\n",
              "    .dataframe tbody tr th:only-of-type {\n",
              "        vertical-align: middle;\n",
              "    }\n",
              "\n",
              "    .dataframe tbody tr th {\n",
              "        vertical-align: top;\n",
              "    }\n",
              "\n",
              "    .dataframe thead th {\n",
              "        text-align: right;\n",
              "    }\n",
              "</style>\n",
              "<table border=\"1\" class=\"dataframe\">\n",
              "  <thead>\n",
              "    <tr style=\"text-align: right;\">\n",
              "      <th></th>\n",
              "      <th>tweet_id</th>\n",
              "      <th>text</th>\n",
              "      <th>task1</th>\n",
              "      <th>task2</th>\n",
              "      <th>ID</th>\n",
              "      <th>language</th>\n",
              "    </tr>\n",
              "  </thead>\n",
              "  <tbody>\n",
              "    <tr>\n",
              "      <th>0</th>\n",
              "      <td>1.123757e+18</td>\n",
              "      <td>hate wen females hit ah nigga with tht bro 😂😂,...</td>\n",
              "      <td>HOF</td>\n",
              "      <td>PRFN</td>\n",
              "      <td>hasoc_2020_en_2574</td>\n",
              "      <td>0</td>\n",
              "    </tr>\n",
              "    <tr>\n",
              "      <th>1</th>\n",
              "      <td>1.123733e+18</td>\n",
              "      <td>RT @airjunebug: When you're from the Bay but y...</td>\n",
              "      <td>HOF</td>\n",
              "      <td>PRFN</td>\n",
              "      <td>hasoc_2020_en_3627</td>\n",
              "      <td>0</td>\n",
              "    </tr>\n",
              "    <tr>\n",
              "      <th>2</th>\n",
              "      <td>1.123734e+18</td>\n",
              "      <td>RT @DonaldJTrumpJr: Dear Democrats: The Americ...</td>\n",
              "      <td>NOT</td>\n",
              "      <td>NONE</td>\n",
              "      <td>hasoc_2020_en_3108</td>\n",
              "      <td>0</td>\n",
              "    </tr>\n",
              "    <tr>\n",
              "      <th>3</th>\n",
              "      <td>1.126951e+18</td>\n",
              "      <td>RT @SheLoveTimothy: He ain’t on drugs he just ...</td>\n",
              "      <td>HOF</td>\n",
              "      <td>PRFN</td>\n",
              "      <td>hasoc_2020_en_3986</td>\n",
              "      <td>0</td>\n",
              "    </tr>\n",
              "    <tr>\n",
              "      <th>4</th>\n",
              "      <td>1.126864e+18</td>\n",
              "      <td>RT @TavianJordan: Summer ‘19 I’m coming for yo...</td>\n",
              "      <td>NOT</td>\n",
              "      <td>NONE</td>\n",
              "      <td>hasoc_2020_en_5152</td>\n",
              "      <td>0</td>\n",
              "    </tr>\n",
              "  </tbody>\n",
              "</table>\n",
              "</div>\n",
              "      <button class=\"colab-df-convert\" onclick=\"convertToInteractive('df-5e5c6279-b7e0-4718-b649-ceb9363f7c17')\"\n",
              "              title=\"Convert this dataframe to an interactive table.\"\n",
              "              style=\"display:none;\">\n",
              "        \n",
              "  <svg xmlns=\"http://www.w3.org/2000/svg\" height=\"24px\"viewBox=\"0 0 24 24\"\n",
              "       width=\"24px\">\n",
              "    <path d=\"M0 0h24v24H0V0z\" fill=\"none\"/>\n",
              "    <path d=\"M18.56 5.44l.94 2.06.94-2.06 2.06-.94-2.06-.94-.94-2.06-.94 2.06-2.06.94zm-11 1L8.5 8.5l.94-2.06 2.06-.94-2.06-.94L8.5 2.5l-.94 2.06-2.06.94zm10 10l.94 2.06.94-2.06 2.06-.94-2.06-.94-.94-2.06-.94 2.06-2.06.94z\"/><path d=\"M17.41 7.96l-1.37-1.37c-.4-.4-.92-.59-1.43-.59-.52 0-1.04.2-1.43.59L10.3 9.45l-7.72 7.72c-.78.78-.78 2.05 0 2.83L4 21.41c.39.39.9.59 1.41.59.51 0 1.02-.2 1.41-.59l7.78-7.78 2.81-2.81c.8-.78.8-2.07 0-2.86zM5.41 20L4 18.59l7.72-7.72 1.47 1.35L5.41 20z\"/>\n",
              "  </svg>\n",
              "      </button>\n",
              "      \n",
              "  <style>\n",
              "    .colab-df-container {\n",
              "      display:flex;\n",
              "      flex-wrap:wrap;\n",
              "      gap: 12px;\n",
              "    }\n",
              "\n",
              "    .colab-df-convert {\n",
              "      background-color: #E8F0FE;\n",
              "      border: none;\n",
              "      border-radius: 50%;\n",
              "      cursor: pointer;\n",
              "      display: none;\n",
              "      fill: #1967D2;\n",
              "      height: 32px;\n",
              "      padding: 0 0 0 0;\n",
              "      width: 32px;\n",
              "    }\n",
              "\n",
              "    .colab-df-convert:hover {\n",
              "      background-color: #E2EBFA;\n",
              "      box-shadow: 0px 1px 2px rgba(60, 64, 67, 0.3), 0px 1px 3px 1px rgba(60, 64, 67, 0.15);\n",
              "      fill: #174EA6;\n",
              "    }\n",
              "\n",
              "    [theme=dark] .colab-df-convert {\n",
              "      background-color: #3B4455;\n",
              "      fill: #D2E3FC;\n",
              "    }\n",
              "\n",
              "    [theme=dark] .colab-df-convert:hover {\n",
              "      background-color: #434B5C;\n",
              "      box-shadow: 0px 1px 3px 1px rgba(0, 0, 0, 0.15);\n",
              "      filter: drop-shadow(0px 1px 2px rgba(0, 0, 0, 0.3));\n",
              "      fill: #FFFFFF;\n",
              "    }\n",
              "  </style>\n",
              "\n",
              "      <script>\n",
              "        const buttonEl =\n",
              "          document.querySelector('#df-5e5c6279-b7e0-4718-b649-ceb9363f7c17 button.colab-df-convert');\n",
              "        buttonEl.style.display =\n",
              "          google.colab.kernel.accessAllowed ? 'block' : 'none';\n",
              "\n",
              "        async function convertToInteractive(key) {\n",
              "          const element = document.querySelector('#df-5e5c6279-b7e0-4718-b649-ceb9363f7c17');\n",
              "          const dataTable =\n",
              "            await google.colab.kernel.invokeFunction('convertToInteractive',\n",
              "                                                     [key], {});\n",
              "          if (!dataTable) return;\n",
              "\n",
              "          const docLinkHtml = 'Like what you see? Visit the ' +\n",
              "            '<a target=\"_blank\" href=https://colab.research.google.com/notebooks/data_table.ipynb>data table notebook</a>'\n",
              "            + ' to learn more about interactive tables.';\n",
              "          element.innerHTML = '';\n",
              "          dataTable['output_type'] = 'display_data';\n",
              "          await google.colab.output.renderOutput(dataTable, element);\n",
              "          const docLink = document.createElement('div');\n",
              "          docLink.innerHTML = docLinkHtml;\n",
              "          element.appendChild(docLink);\n",
              "        }\n",
              "      </script>\n",
              "    </div>\n",
              "  </div>\n",
              "  "
            ],
            "text/plain": [
              "       tweet_id  ... language\n",
              "0  1.123757e+18  ...        0\n",
              "1  1.123733e+18  ...        0\n",
              "2  1.123734e+18  ...        0\n",
              "3  1.126951e+18  ...        0\n",
              "4  1.126864e+18  ...        0\n",
              "\n",
              "[5 rows x 6 columns]"
            ]
          },
          "metadata": {},
          "execution_count": 14
        }
      ],
      "source": [
        "data_en = pd.read_excel(\"/content/hasoc-fire-2020/2020/hasoc_2020_en_train_new_a.xlsx\")\n",
        "data_en_test = pd.read_csv(\"/content/hasoc-fire-2020/2020/english_test_1509.csv\")\n",
        "data_en['language'] = 0\n",
        "data_en_test['language'] = 0\n",
        "data_de = pd.read_excel(\"/content/hasoc-fire-2020/2020/hasoc_2020_de_train_new_a.xlsx\")\n",
        "data_de_test = pd.read_csv(\"/content/hasoc-fire-2020/2020/german_test_1509.csv\")\n",
        "data_de['language'] = 1\n",
        "data_de_test['language'] = 1\n",
        "data_hi = pd.read_excel(\"/content/hasoc-fire-2020/2020/hasoc_2020_hi_train_a.xlsx\")\n",
        "data_hi_test = pd.read_csv(\"/content/hasoc-fire-2020/2020/hindi_test_1509.csv\")\n",
        "data_hi['language'] = 2\n",
        "data_hi_test['language'] = 2\n",
        "\n",
        "data = copy.deepcopy(data_en)\n",
        "data = data.append(data_de, ignore_index=True)\n",
        "data = data.append(data_hi, ignore_index=True)\n",
        "data_test = copy.deepcopy(data_en_test)\n",
        "data_test = data_test.append(data_de_test, ignore_index=True)\n",
        "data_test = data_test.append(data_hi_test, ignore_index=True)\n",
        "\n",
        "labels = data[['task1', 'task2', 'language']]\n",
        "le = LabelEncoder()\n",
        "labels['task1'] = le.fit_transform(labels['task1'])\n",
        "le = LabelEncoder()\n",
        "labels['task2'] = le.fit_transform(labels['task2'])\n",
        "\n",
        "labels_test = data_test[['task1', 'task2', 'language']]\n",
        "le = LabelEncoder()\n",
        "labels_test['task1'] = le.fit_transform(labels_test['task1'])\n",
        "le = LabelEncoder()\n",
        "labels_test['task2'] = le.fit_transform(labels_test['task2'])\n",
        "\n",
        "data.head()"
      ]
    },
    {
      "cell_type": "code",
      "execution_count": 15,
      "metadata": {
        "id": "y_hEbxWJL0qd"
      },
      "outputs": [],
      "source": [
        "data = data.drop(columns=['tweet_id','task1', 'task2','language','ID'])"
      ]
    },
    {
      "cell_type": "code",
      "execution_count": 5,
      "metadata": {
        "id": "uPjKgBj-dsEW"
      },
      "outputs": [],
      "source": [
        "X_train, X_val, y_train, y_val = train_test_split(data, labels, train_size=0.85, shuffle=True, random_state=2045)"
      ]
    },
    {
      "cell_type": "code",
      "execution_count": 16,
      "metadata": {
        "id": "2ZW8Hv7jk_z9"
      },
      "outputs": [],
      "source": [
        "train_set = X_train['text'].to_list()\n",
        "train_labels1 = y_train['task1'].to_list()\n",
        "train_labels2 = y_train['task2'].to_list()\n",
        "train_langs = y_train['language'].to_list()\n",
        "\n",
        "val_set = X_val['text'].to_list()\n",
        "val_labels1 = y_val['task1'].to_list()\n",
        "val_labels2 = y_val['task2'].to_list()\n",
        "val_langs = y_val['language'].to_list()\n",
        "\n",
        "test_set = data_test['text'].to_list()\n",
        "test_labels1 = labels_test['task1'].to_list()\n",
        "test_labels2 = labels_test['task2'].to_list()\n",
        "test_langs = labels_test['language'].to_list()"
      ]
    },
    {
      "cell_type": "markdown",
      "metadata": {
        "id": "UJDieo15h1ce"
      },
      "source": [
        "# Utility functions"
      ]
    },
    {
      "cell_type": "code",
      "execution_count": 18,
      "metadata": {
        "id": "gO3xhOTncTu0"
      },
      "outputs": [],
      "source": [
        "\n",
        "def pre_process_dataset(values):\n",
        "    new_values = list()\n",
        "    # Emoticons\n",
        "    emoticons = [':-)', ':)', '(:', '(-:', ':))', '((:', ':-D', ':D', 'X-D', 'XD', 'xD', 'xD', '<3', '</3', ':\\*',\n",
        "                 ';-)',\n",
        "                 ';)', ';-D', ';D', '(;', '(-;', ':-(', ':(', '(:', '(-:', ':,(', ':\\'(', ':\"(', ':((', ':D', '=D',\n",
        "                 '=)',\n",
        "                 '(=', '=(', ')=', '=-O', 'O-=', ':o', 'o:', 'O:', 'O:', ':-o', 'o-:', ':P', ':p', ':S', ':s', ':@',\n",
        "                 ':>',\n",
        "                 ':<', '^_^', '^.^', '>.>', 'T_T', 'T-T', '-.-', '*.*', '~.~', ':*', ':-*', 'xP', 'XP', 'XP', 'Xp',\n",
        "                 ':-|',\n",
        "                 ':->', ':-<', '$_$', '8-)', ':-P', ':-p', '=P', '=p', ':*)', '*-*', 'B-)', 'O.o', 'X-(', ')-X']\n",
        "\n",
        "    for value in values:\n",
        "        # Remove dots\n",
        "        text = value.replace(\".\", \"\").lower()\n",
        "        text = re.sub(r\"[^a-zA-Z?.!,¿]+\", \" \", text)\n",
        "        users = re.findall(\"[@]\\w+\", text)\n",
        "        for user in users:\n",
        "            text = text.replace(user, \"<user>\")\n",
        "        urls = re.findall(r'(https?://[^\\s]+)', text)\n",
        "        if len(urls) != 0:\n",
        "            for url in urls:\n",
        "                text = text.replace(url, \"<url >\")\n",
        "        for emo in text:\n",
        "            if emo in emoji.UNICODE_EMOJI:\n",
        "                text = text.replace(emo, \"<emoticon >\")\n",
        "        for emo in emoticons:\n",
        "            text = text.replace(emo, \"<emoticon >\")\n",
        "        numbers = re.findall('[0-9]+', text)\n",
        "        for number in numbers:\n",
        "            text = text.replace(number, \"<number >\")\n",
        "        text = text.replace('#', \"<hashtag >\")\n",
        "        text = re.sub(r\"([?.!,¿])\", r\" \", text)\n",
        "        text = \"\".join(l for l in text if l not in string.punctuation)\n",
        "        text = re.sub(r'[\" \"]+', \" \", text)\n",
        "        new_values.append(text)\n",
        "    return new_values\n",
        "\n",
        "\n",
        "def data_process(data, labels):\n",
        "    input_ids = []\n",
        "    attention_masks = []\n",
        "    bert_tokenizer = BertTokenizer.from_pretrained(\"bert-base-multilingual-cased\")\n",
        "    for sentence in data:\n",
        "        bert_inp = bert_tokenizer.__call__(sentence, max_length=64,\n",
        "                                           padding='max_length', pad_to_max_length=True,\n",
        "                                           truncation=True, return_token_type_ids=False)\n",
        "\n",
        "        input_ids.append(bert_inp['input_ids'])\n",
        "        attention_masks.append(bert_inp['attention_mask'])\n",
        "    #del bert_tokenizer\n",
        "    #gc.collect()\n",
        "    #torch.cuda.empty_cache()\n",
        "    input_ids = np.asarray(input_ids)\n",
        "    attention_masks = np.array(attention_masks)\n",
        "    labels = np.array(labels)\n",
        "    return input_ids, attention_masks, labels\n",
        "\n"
      ]
    },
    {
      "cell_type": "markdown",
      "metadata": {
        "id": "32c0j8mp3Jzz"
      },
      "source": [
        "# Model"
      ]
    },
    {
      "cell_type": "code",
      "execution_count": 19,
      "metadata": {
        "id": "CUcU4tEVLvun"
      },
      "outputs": [],
      "source": [
        "class BERT_Arch(nn.Module):\n",
        "\n",
        "    def __init__(self, bert, n_classes, mode='cnn'):\n",
        "        super(BERT_Arch, self).__init__()\n",
        "        self.bert = BertModel.from_pretrained('bert-base-multilingual-cased')\n",
        "        self.n_classes = n_classes\n",
        "        self.mode = mode\n",
        "\n",
        "        if mode == 'cnn':\n",
        "            # CNN\n",
        "            self.conv = nn.Conv2d(in_channels=13, out_channels=13, kernel_size=(3, 768), padding='valid')\n",
        "            self.relu = nn.ReLU()\n",
        "            self.pool = nn.MaxPool2d(kernel_size=(3, 1), stride=1)\n",
        "            self.dropout = nn.Dropout(0.1)\n",
        "            self.fc = nn.Linear(13 * (64 - 4), self.n_classes).to(device)\n",
        "            self.flat = nn.Flatten()\n",
        "            \n",
        "        elif mode == 'rnn':\n",
        "            ### RNN\n",
        "            self.lstm = nn.LSTM(768, 256, batch_first=True, bidirectional=True)\n",
        "            ## FC\n",
        "            self.fc = nn.Linear(256*2, self.n_classes)\n",
        "        elif mode == 'shallow_fc':\n",
        "            self.fc = nn.Linear(768, self.n_classes)\n",
        "        elif mode == 'deep_fc':\n",
        "            self.leaky_relu = nn.LeakyReLU(0.01)\n",
        "            self.fc1 = nn.Linear(768, 768)\n",
        "            self.dropout = nn.Dropout(0.1)\n",
        "            self.fc2 = nn.Linear(768, 768)\n",
        "            self.dropout = nn.Dropout(0.1)\n",
        "            self.fc3 = nn.Linear(768, self.n_classes)\n",
        "        else:\n",
        "            raise NotImplementedError(\"Unsupported extension!\")\n",
        "\n",
        "        self.softmax = nn.LogSoftmax(dim=1)\n",
        "\n",
        "    def forward(self, sent_id, mask):\n",
        "        sequence_output, _, all_layers = self.bert(sent_id, attention_mask=mask, output_hidden_states=True)\n",
        "        if self.mode == 'cnn':\n",
        "            x = torch.transpose(torch.cat(tuple([t.unsqueeze(0) for t in all_layers]), 0), 0, 1)\n",
        "            x = self.pool(self.dropout(self.relu(self.conv(self.dropout(x)))))\n",
        "            x = self.fc(self.dropout(self.flat(self.dropout(x))))\n",
        "        elif self.mode == 'rnn':\n",
        "            lstm_output, (h,c) = self.lstm(sequence_output)\n",
        "            hidden = torch.cat((lstm_output[:,-1, :256],lstm_output[:,0, 256:]),dim=-1)\n",
        "            x  = self.fc(hidden.view(-1,256*2))\n",
        "        elif self.mode == 'shallow_fc':\n",
        "            x = self.fc(sequence_output[:,0,:])\n",
        "        elif self.mode == 'deep_fc':\n",
        "            x = self.fc1(sequence_output[:,0,:])\n",
        "            x = self.leaky_relu(x)\n",
        "            x = self.fc2(x)\n",
        "            x = self.leaky_relu(x)\n",
        "            x = self.fc3(x)\n",
        "        else:\n",
        "            raise NotImplementedError(\"Unsupported extension!\")\n",
        "        gc.collect()\n",
        "        torch.cuda.empty_cache()\n",
        "        del all_layers\n",
        "        c = self.softmax(x)\n",
        "        return c\n"
      ]
    },
    {
      "cell_type": "markdown",
      "metadata": {
        "id": "5v8P9TN4So5Y"
      },
      "source": [
        "# Train"
      ]
    },
    {
      "cell_type": "code",
      "execution_count": 22,
      "metadata": {
        "id": "c1fcW3fcia33"
      },
      "outputs": [],
      "source": [
        "\n",
        "# function to train the model\n",
        "def train():\n",
        "    model.train()\n",
        "\n",
        "    total_loss, total_accuracy = 0, 0\n",
        "\n",
        "    # empty list to save model predictions\n",
        "    total_preds = []\n",
        "\n",
        "    # iterate over batches\n",
        "    total = len(train_dataloader)\n",
        "    for i, batch in enumerate(train_dataloader):\n",
        "\n",
        "        step = i+1\n",
        "        percent = \"{0:.2f}\".format(100 * (step / float(total)))\n",
        "        lossp = \"{0:.2f}\".format(total_loss/(total*batch_size))\n",
        "        filledLength = int(100 * step // total)\n",
        "        bar = '█' * filledLength + '>'  *(filledLength < 100) + '.' * (99 - filledLength)\n",
        "        print(f'\\rBatch {step}/{total} |{bar}| {percent}% complete, loss={lossp}, accuracy={total_accuracy}', end='')\n",
        "\n",
        "        # push the batch to gpu\n",
        "        batch = [r.to(device) for r in batch]\n",
        "        sent_id, mask, labels = batch\n",
        "        del batch\n",
        "        gc.collect()\n",
        "        torch.cuda.empty_cache()\n",
        "        # clear previously calculated gradients\n",
        "        model.zero_grad()\n",
        "\n",
        "        # get model predictions for the current batch\n",
        "        #sent_id = torch.tensor(sent_id).to(device).long()\n",
        "        preds = model(sent_id, mask)\n",
        "\n",
        "        # compute the loss between actual and predicted values\n",
        "        loss = cross_entropy(preds, labels)\n",
        "\n",
        "        # add on to the total loss\n",
        "        total_loss += float(loss.item())\n",
        "\n",
        "        # backward pass to calculate the gradients\n",
        "        loss.backward()\n",
        "\n",
        "        # clip the the gradients to 1.0. It helps in preventing the exploding gradient problem\n",
        "        torch.nn.utils.clip_grad_norm_(model.parameters(), 1.0)\n",
        "\n",
        "        # update parameters\n",
        "        optimizer.step()\n",
        "\n",
        "        # model predictions are stored on GPU. So, push it to CPU\n",
        "        #preds = preds.detach().cpu().numpy()\n",
        "\n",
        "        # append the model predictions\n",
        "        #total_preds.append(preds)\n",
        "        total_preds.append(preds.detach().cpu().numpy())\n",
        "\n",
        "    gc.collect()\n",
        "    torch.cuda.empty_cache()\n",
        "\n",
        "    # compute the training loss of the epoch\n",
        "    avg_loss = total_loss / (len(train_dataloader)*batch_size)\n",
        "\n",
        "    # predictions are in the form of (no. of batches, size of batch, no. of classes).\n",
        "    # reshape the predictions in form of (number of samples, no. of classes)\n",
        "    total_preds = np.concatenate(total_preds, axis=0)\n",
        "\n",
        "    # returns the loss and predictions\n",
        "    return avg_loss, total_preds\n",
        "\n",
        "\n",
        "# function for evaluating the model\n",
        "def evaluate():\n",
        "    print(\"\\n\\nEvaluating...\")\n",
        "\n",
        "    # deactivate dropout layers\n",
        "    model.eval()\n",
        "\n",
        "    total_loss, total_accuracy = 0, 0\n",
        "\n",
        "    # empty list to save the model predictions\n",
        "    total_preds = []\n",
        "\n",
        "    # iterate over batches\n",
        "    total = len(val_dataloader)\n",
        "    for i, batch in enumerate(val_dataloader):\n",
        "        \n",
        "        step = i+1\n",
        "        percent = \"{0:.2f}\".format(100 * (step / float(total)))\n",
        "        lossp = \"{0:.2f}\".format(total_loss/(total*batch_size))\n",
        "        filledLength = int(100 * step // total)\n",
        "        bar = '█' * filledLength + '>' * (filledLength < 100) + '.' * (99 - filledLength)\n",
        "        print(f'\\rBatch {step}/{total} |{bar}| {percent}% complete, loss={lossp}, accuracy={total_accuracy}', end='')\n",
        "\n",
        "        # push the batch to gpu\n",
        "        batch = [t.to(device) for t in batch]\n",
        "\n",
        "        sent_id, mask, labels = batch\n",
        "        del batch\n",
        "        gc.collect()\n",
        "        torch.cuda.empty_cache()\n",
        "        # deactivate autograd\n",
        "        with torch.no_grad():\n",
        "\n",
        "            # model predictions\n",
        "            preds = model(sent_id, mask)\n",
        "\n",
        "            # compute the validation loss between actual and predicted values\n",
        "            loss = cross_entropy(preds, labels)\n",
        "\n",
        "            total_loss += float(loss.item())\n",
        "            #preds = preds.detach().cpu().numpy()\n",
        "\n",
        "            #total_preds.append(preds)\n",
        "            total_preds.append(preds.detach().cpu().numpy())\n",
        "\n",
        "    gc.collect()\n",
        "    torch.cuda.empty_cache()\n",
        "\n",
        "    # compute the validation loss of the epoch\n",
        "    avg_loss = total_loss / (len(val_dataloader)*batch_size)\n",
        "\n",
        "    # reshape the predictions in form of (number of samples, no. of classes)\n",
        "    total_preds = np.concatenate(total_preds, axis=0)\n",
        "\n",
        "    return avg_loss, total_preds\n"
      ]
    },
    {
      "cell_type": "code",
      "execution_count": 23,
      "metadata": {
        "id": "0Y3L2lH1mROW"
      },
      "outputs": [],
      "source": [
        "### Extension mode\n",
        "MODE = 'cnn'"
      ]
    },
    {
      "cell_type": "code",
      "execution_count": 24,
      "metadata": {
        "id": "xe5O3NoS3cWp"
      },
      "outputs": [],
      "source": [
        "pre_pro_train_data = pre_process_dataset(train_set)\n",
        "pre_pro_val_data = pre_process_dataset(val_set)\n",
        "pre_pro_test_data = pre_process_dataset(test_set)\n",
        "\n",
        "train_input_ids, train_attention_masks, train_labels = data_process(pre_pro_train_data,train_labels2)\n",
        "val_input_ids, val_attention_masks, val_labels = data_process(pre_pro_val_data,val_labels2)\n",
        "test_input_ids, test_attention_masks, test_labels = data_process(pre_pro_test_data,test_labels2)\n"
      ]
    },
    {
      "cell_type": "code",
      "execution_count": 25,
      "metadata": {
        "colab": {
          "base_uri": "https://localhost:8080/"
        },
        "id": "EH3HDzr9WDgY",
        "outputId": "51f23319-8765-4540-f412-c4a78a6ba208"
      },
      "outputs": [
        {
          "output_type": "stream",
          "name": "stdout",
          "text": [
            "cuda\n"
          ]
        }
      ],
      "source": [
        "# Specify the GPU\n",
        "# Setting up the device for GPU usage\n",
        "device = 'cuda' if torch.cuda.is_available() else 'cpu'\n",
        "print(device)\n",
        "\n",
        "train_count = len(train_labels)\n",
        "test_count = len(test_labels)\n",
        "val_count = len(val_labels)\n",
        "\n",
        "# ~~~~~~~~~~~~~~~~~~~~~ Import BERT Model and BERT Tokenizer ~~~~~~~~~~~~~~~~~~~~~#\n",
        "# import BERT-base pretrained model\n",
        "bert = AutoModel.from_pretrained('bert-base-multilingual-cased')\n",
        "# bert = AutoModel.from_pretrained('bert-base-uncased')\n",
        "# Load the BERT tokenizer\n",
        "#tokenizer = BertTokenizerFast.from_pretrained('bert-base-uncased')\n",
        "# ~~~~~~~~~~~~~~~~~~~~~~~~~~~~~~~~~~~~~~~~~~~~~~~~~~~~~~~~~~~~~~~~~~~~~~~~~~~~~~~~#\n"
      ]
    },
    {
      "cell_type": "code",
      "execution_count": 26,
      "metadata": {
        "colab": {
          "base_uri": "https://localhost:8080/"
        },
        "id": "bUtglOzvL6bU",
        "outputId": "6b3b8db8-c3d0-4495-fe1c-462a7b200a5a"
      },
      "outputs": [
        {
          "output_type": "stream",
          "name": "stdout",
          "text": [
            "\n",
            "Epoch 1 / 3:\n",
            "Batch 241/241 |████████████████████████████████████████████████████████████████████████████████████████████████████| 100.00% complete, loss=0.03, accuracy=0\n",
            "\n",
            "Evaluating...\n",
            "Batch 43/43 |████████████████████████████████████████████████████████████████████████████████████████████████████| 100.00% complete, loss=0.02, accuracy=0\n",
            "\n",
            "Training Loss: 0.027\n",
            "Validation Loss: 0.022\n",
            "\n",
            "Epoch 2 / 3:\n",
            "Batch 241/241 |████████████████████████████████████████████████████████████████████████████████████████████████████| 100.00% complete, loss=0.02, accuracy=0\n",
            "\n",
            "Evaluating...\n",
            "Batch 43/43 |████████████████████████████████████████████████████████████████████████████████████████████████████| 100.00% complete, loss=0.02, accuracy=0\n",
            "\n",
            "Training Loss: 0.022\n",
            "Validation Loss: 0.021\n",
            "\n",
            "Epoch 3 / 3:\n",
            "Batch 241/241 |████████████████████████████████████████████████████████████████████████████████████████████████████| 100.00% complete, loss=0.02, accuracy=0\n",
            "\n",
            "Evaluating...\n",
            "Batch 43/43 |████████████████████████████████████████████████████████████████████████████████████████████████████| 100.00% complete, loss=0.02, accuracy=0\n",
            "\n",
            "Training Loss: 0.019\n",
            "Validation Loss: 0.021\n"
          ]
        }
      ],
      "source": [
        "\n",
        "# ~~~~~~~~~~~~~~~~~~~~~~~~~~~~~~~~~ Tokenization ~~~~~~~~~~~~~~~~~~~~~~~~~~~~~~~~~#\n",
        "# for train set\n",
        "train_seq = torch.tensor(train_input_ids.tolist())\n",
        "train_mask = torch.tensor(train_attention_masks.tolist())\n",
        "train_y = torch.tensor(train_labels.tolist())\n",
        "\n",
        "# for validation set\n",
        "val_seq = torch.tensor(val_input_ids.tolist())\n",
        "val_mask = torch.tensor(val_attention_masks.tolist())\n",
        "val_y = torch.tensor(val_labels.tolist())\n",
        "\n",
        "# for test set\n",
        "test_seq = torch.tensor(test_input_ids.tolist())\n",
        "test_mask = torch.tensor(test_attention_masks.tolist())\n",
        "test_y = torch.tensor(test_labels.tolist())\n",
        "# ~~~~~~~~~~~~~~~~~~~~~~~~~~~~~~~~~~~~~~~~~~~~~~~~~~~~~~~~~~~~~~~~~~~~~~~~~~~~~~~~#\n",
        "\n",
        "# ~~~~~~~~~~~~~~~~~~~~~~~~~~~~~~ Create DataLoaders ~~~~~~~~~~~~~~~~~~~~~~~~~~~~~~#\n",
        "from torch.utils.data import TensorDataset, DataLoader, RandomSampler, SequentialSampler\n",
        "\n",
        "# define a batch size\n",
        "batch_size = 32\n",
        "\n",
        "# wrap tensors\n",
        "train_data = TensorDataset(train_seq, train_mask, train_y)\n",
        "\n",
        "# sampler for sampling the data during training\n",
        "train_sampler = RandomSampler(train_data)\n",
        "\n",
        "# dataLoader for train set\n",
        "train_dataloader = DataLoader(train_data, sampler=train_sampler, batch_size=batch_size)\n",
        "\n",
        "# wrap tensors\n",
        "val_data = TensorDataset(val_seq, val_mask, val_y)\n",
        "\n",
        "# sampler for sampling the data during training\n",
        "val_sampler = SequentialSampler(val_data)\n",
        "\n",
        "# dataLoader for validation set\n",
        "val_dataloader = DataLoader(val_data, sampler=val_sampler, batch_size=batch_size)\n",
        "# ~~~~~~~~~~~~~~~~~~~~~~~~~~~~~~~~~~~~~~~~~~~~~~~~~~~~~~~~~~~~~~~~~~~~~~~~~~~~~~~~#\n",
        "\n",
        "# ~~~~~~~~~~~~~~~~~~~~~~~~~~~~ Freeze BERT Parameters ~~~~~~~~~~~~~~~~~~~~~~~~~~~~#\n",
        "# freeze all the parameters\n",
        "for param in bert.parameters():\n",
        "    param.requires_grad = False\n",
        "# ~~~~~~~~~~~~~~~~~~~~~~~~~~~~~~~~~~~~~~~~~~~~~~~~~~~~~~~~~~~~~~~~~~~~~~~~~~~~~~~~#\n",
        "\n",
        "# pass the pre-trained BERT to our define architecture\n",
        "model = BERT_Arch(bert, n_classes=4, mode=MODE)\n",
        "# push the model to GPU\n",
        "model = model.to(device)\n",
        "\n",
        "# optimizer from hugging face transformers\n",
        "from transformers import AdamW\n",
        "\n",
        "# define the optimizer\n",
        "optimizer = AdamW(model.parameters(), lr=2e-5)\n",
        "\n",
        "#from sklearn.utils.class_weight import compute_class_weight\n",
        "\n",
        "# compute the class weights\n",
        "#class_wts = compute_class_weight('balanced', np.unique(train_labels), train_labels)\n",
        "\n",
        "#print(class_wts)\n",
        "\n",
        "# convert class weights to tensor\n",
        "#weights = torch.tensor(class_wts, dtype=torch.float)\n",
        "#weights = weights.to(device)\n",
        "\n",
        "# loss function\n",
        "#cross_entropy = nn.NLLLoss(weight=weights)\n",
        "cross_entropy = nn.NLLLoss()\n",
        "\n",
        "# set initial loss to infinite\n",
        "best_valid_loss = float('inf')\n",
        "\n",
        "# empty lists to store training and validation loss of each epoch\n",
        "#train_losses = []\n",
        "#valid_losses = []\n",
        "\n",
        "#if os.path.isfile(\"/content/drive/MyDrive/saved_weights.pth\") == False:\n",
        "#if os.path.isfile(\"saved_weights.pth\") == False:\n",
        "    # number of training epochs\n",
        "epochs = 3\n",
        "current = 1\n",
        "# for each epoch\n",
        "while current <= epochs:\n",
        "\n",
        "    print(f'\\nEpoch {current} / {epochs}:')\n",
        "\n",
        "    # train model\n",
        "    train_loss, _ = train()\n",
        "\n",
        "    # evaluate model\n",
        "    valid_loss, _ = evaluate()\n",
        "\n",
        "    # save the best model\n",
        "    if valid_loss < best_valid_loss:\n",
        "        best_valid_loss = valid_loss\n",
        "        #torch.save(model.state_dict(), 'saved_weights.pth')\n",
        "\n",
        "    # append training and validation loss\n",
        "    #train_losses.append(train_loss)\n",
        "    #valid_losses.append(valid_loss)\n",
        "\n",
        "    print(f'\\n\\nTraining Loss: {train_loss:.3f}')\n",
        "    print(f'Validation Loss: {valid_loss:.3f}')\n",
        "\n",
        "    current = current + 1\n",
        "#else:\n",
        "    #print(\"Got weights!\")\n",
        "    # load weights of best model\n",
        "    #model.load_state_dict(torch.load(\"saved_weights.pth\"))\n",
        "    #model.load_state_dict(torch.load(\"/content/drive/MyDrive/saved_weights.pth\"), strict=False)\n"
      ]
    },
    {
      "cell_type": "markdown",
      "metadata": {
        "id": "qIyWdkPISOp8"
      },
      "source": [
        "# Test"
      ]
    },
    {
      "cell_type": "code",
      "execution_count": 27,
      "metadata": {
        "id": "rmwow4GrZlfA"
      },
      "outputs": [],
      "source": [
        "# get predictions for test data\n",
        "gc.collect()\n",
        "torch.cuda.empty_cache()\n",
        "preds = []\n",
        "with torch.no_grad():\n",
        "    for i in range(len(test_seq)):\n",
        "        pred = model(test_seq[i].unsqueeze(0).to(device), test_mask[i].unsqueeze(0).to(device)).detach().cpu().numpy()\n",
        "        preds.append(pred[0])\n",
        "\n"
      ]
    },
    {
      "cell_type": "code",
      "source": [
        "print(\"Performance:\")\n",
        "# model's performance\n",
        "preds = np.argmax(preds, axis=1)\n",
        "print('Classification Report (Overall)')\n",
        "print(classification_report(test_y, preds))\n",
        "\n",
        "print(\"Accuracy: \" + str(accuracy_score(test_y, preds)))"
      ],
      "metadata": {
        "id": "vcPBJ9ivk-io",
        "outputId": "0786bfa0-8d1a-44aa-945a-c842ea36ef89",
        "colab": {
          "base_uri": "https://localhost:8080/"
        }
      },
      "execution_count": 29,
      "outputs": [
        {
          "output_type": "stream",
          "name": "stdout",
          "text": [
            "Performance:\n",
            "Classification Report (Overall)\n",
            "              precision    recall  f1-score   support\n",
            "\n",
            "           0       0.00      0.00      0.00       105\n",
            "           1       0.80      0.97      0.88      1285\n",
            "           2       0.60      0.01      0.03       205\n",
            "           3       0.75      0.82      0.78       408\n",
            "\n",
            "    accuracy                           0.79      2003\n",
            "   macro avg       0.54      0.45      0.42      2003\n",
            "weighted avg       0.73      0.79      0.73      2003\n",
            "\n",
            "Accuracy: 0.7918122815776335\n"
          ]
        }
      ]
    },
    {
      "cell_type": "markdown",
      "metadata": {
        "id": "I6cJkkC_SQQN"
      },
      "source": [
        "# Post-processing"
      ]
    },
    {
      "cell_type": "code",
      "execution_count": 33,
      "metadata": {
        "id": "kL7ASGELSR1v"
      },
      "outputs": [],
      "source": [
        "### Analyze the results by language\n",
        "# HATE: 0, NONE: 1, OFFN: 2, PRFN: 3\n",
        "# Languages, EN: 0, DE: 1, HI: 2\n",
        "\n",
        "test_labels1 = np.array(test_labels1)\n",
        "en_actual = []\n",
        "en_pred = []\n",
        "hi_actual = []\n",
        "hi_pred = []\n",
        "de_actual = []\n",
        "de_pred = []\n",
        "for i in range(len(test_labels)):\n",
        "    if data_test['language'][i] == 0:\n",
        "        en_actual.append(test_labels1[i])\n",
        "        en_pred.append(preds[i])\n",
        "    if data_test['language'][i] == 1:\n",
        "        de_actual.append(test_labels1[i])\n",
        "        de_pred.append(preds[i])\n",
        "    if data_test['language'][i] == 2:\n",
        "        hi_actual.append(test_labels1[i])\n",
        "        hi_pred.append(preds[i])"
      ]
    },
    {
      "cell_type": "code",
      "source": [
        "# en\n",
        "print('Classification Report (English)')\n",
        "print(classification_report(en_actual, en_pred))\n",
        "print(\"Accuracy: \" + str(accuracy_score(en_actual, en_pred)))"
      ],
      "metadata": {
        "id": "-b_a7i0ZrE78",
        "outputId": "f4fdfb51-3ec3-4e67-c303-77236979cd64",
        "colab": {
          "base_uri": "https://localhost:8080/"
        }
      },
      "execution_count": 34,
      "outputs": [
        {
          "output_type": "stream",
          "name": "stdout",
          "text": [
            "Classification Report (English)\n",
            "              precision    recall  f1-score   support\n",
            "\n",
            "           0       0.00      0.00      0.00       423\n",
            "           1       0.80      0.96      0.87       391\n",
            "           2       0.00      0.00      0.00         0\n",
            "           3       0.00      0.00      0.00         0\n",
            "\n",
            "    accuracy                           0.46       814\n",
            "   macro avg       0.20      0.24      0.22       814\n",
            "weighted avg       0.38      0.46      0.42       814\n",
            "\n",
            "Accuracy: 0.4594594594594595\n"
          ]
        }
      ]
    },
    {
      "cell_type": "code",
      "source": [
        "# de\n",
        "print('Classification Report (German)')\n",
        "print(classification_report(de_actual, de_pred))\n",
        "print(\"Accuracy: \" + str(accuracy_score(de_actual, de_pred)))"
      ],
      "metadata": {
        "id": "3eJHFSsyramS",
        "outputId": "52286bce-2d6c-4aff-ac13-fc1dcc989dcf",
        "colab": {
          "base_uri": "https://localhost:8080/"
        }
      },
      "execution_count": 35,
      "outputs": [
        {
          "output_type": "stream",
          "name": "stdout",
          "text": [
            "Classification Report (German)\n",
            "              precision    recall  f1-score   support\n",
            "\n",
            "           0       0.00      0.00      0.00       134\n",
            "           1       0.87      0.95      0.91       392\n",
            "           3       0.00      0.00      0.00         0\n",
            "\n",
            "    accuracy                           0.71       526\n",
            "   macro avg       0.29      0.32      0.30       526\n",
            "weighted avg       0.65      0.71      0.68       526\n",
            "\n",
            "Accuracy: 0.7072243346007605\n"
          ]
        }
      ]
    },
    {
      "cell_type": "code",
      "source": [
        "# hi\n",
        "print('Classification Report (Hindi)')\n",
        "print(classification_report(hi_actual, hi_pred))\n",
        "print(\"Accuracy: \" + str(accuracy_score(hi_actual, hi_pred)))"
      ],
      "metadata": {
        "id": "FGlrxLkarcnA",
        "outputId": "97240c68-996a-4081-f14d-fa60c445cab8",
        "colab": {
          "base_uri": "https://localhost:8080/"
        }
      },
      "execution_count": 36,
      "outputs": [
        {
          "output_type": "stream",
          "name": "stdout",
          "text": [
            "Classification Report (Hindi)\n",
            "              precision    recall  f1-score   support\n",
            "\n",
            "           0       0.00      0.00      0.00       197\n",
            "           1       0.71      0.99      0.83       466\n",
            "           2       0.00      0.00      0.00         0\n",
            "           3       0.00      0.00      0.00         0\n",
            "\n",
            "    accuracy                           0.70       663\n",
            "   macro avg       0.18      0.25      0.21       663\n",
            "weighted avg       0.50      0.70      0.58       663\n",
            "\n",
            "Accuracy: 0.6968325791855203\n"
          ]
        }
      ]
    }
  ],
  "metadata": {
    "accelerator": "GPU",
    "colab": {
      "collapsed_sections": [],
      "machine_shape": "hm",
      "name": "BERT_extensions_multi_lingual.ipynb",
      "provenance": [],
      "include_colab_link": true
    },
    "kernelspec": {
      "display_name": "Python 3",
      "name": "python3"
    },
    "language_info": {
      "name": "python"
    }
  },
  "nbformat": 4,
  "nbformat_minor": 0
}