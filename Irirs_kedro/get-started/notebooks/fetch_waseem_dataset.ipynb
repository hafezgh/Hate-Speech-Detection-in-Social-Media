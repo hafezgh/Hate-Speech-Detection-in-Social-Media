{
  "nbformat": 4,
  "nbformat_minor": 0,
  "metadata": {
    "colab": {
      "name": "fetch_waseem_dataset.ipynb",
      "provenance": [],
      "collapsed_sections": [],
      "include_colab_link": true
    },
    "kernelspec": {
      "name": "python3",
      "display_name": "Python 3"
    },
    "language_info": {
      "name": "python"
    },
    "accelerator": "GPU"
  },
  "cells": [
    {
      "cell_type": "markdown",
      "metadata": {
        "id": "view-in-github",
        "colab_type": "text"
      },
      "source": [
        "<a href=\"https://colab.research.google.com/github/hafezgh/Hate-Speech-Detection-in-Social-Media/blob/main/fetch_waseem_dataset.ipynb\" target=\"_parent\"><img src=\"https://colab.research.google.com/assets/colab-badge.svg\" alt=\"Open In Colab\"/></a>"
      ]
    },
    {
      "cell_type": "markdown",
      "source": [
        "# Imports"
      ],
      "metadata": {
        "id": "s4ga5LLSSPQN"
      }
    },
    {
      "cell_type": "code",
      "execution_count": 1,
      "metadata": {
        "id": "lqOFKm6QLoua"
      },
      "outputs": [],
      "source": [
        "import numpy as np\n",
        "import pandas as pd\n",
        "from time import sleep\n",
        "import warnings\n",
        "warnings.filterwarnings('ignore')\n",
        "import tweepy"
      ]
    },
    {
      "cell_type": "code",
      "source": [
        "consumer_key = \"\"\n",
        "consumer_secret = \"\"\n",
        "access_token = \"\"\n",
        "access_token_secret = \"\"\n",
        "\n",
        "auth = tweepy.OAuthHandler(consumer_key, consumer_secret)\n",
        "auth.set_access_token(access_token, access_token_secret)\n",
        "\n",
        "api = tweepy.API(auth)\n",
        "\n",
        "ids = pd.read_csv('waseem_dataset_ids.txt', sep=',', low_memory=False, header=None)\n",
        "ids_list = list(ids[0])\n",
        "labels = list(ids[1])\n",
        "valid_tweets = []\n",
        "valid_labels = []\n",
        "i = 0\n",
        "tweet = api.get_status(ids_list[i])\n",
        "txt = tweet.text\n",
        "print(i, \":\", txt, \" ... label:\", labels[i])"
      ],
      "metadata": {
        "colab": {
          "base_uri": "https://localhost:8080/"
        },
        "id": "G_heaWSbRugR",
        "outputId": "d5531aa6-cc12-4897-fb3b-3bd5e576ef37"
      },
      "execution_count": 2,
      "outputs": [
        {
          "output_type": "stream",
          "name": "stdout",
          "text": [
            "0 : So Drasko just said he was impressed the girls cooked half a chicken.. They cooked a whole one  #MKR  ... label: racism\n"
          ]
        }
      ]
    },
    {
      "cell_type": "code",
      "source": [
        "for i in range(len(ids_list)):\n",
        "    try:\n",
        "        tweet = api.get_status(ids_list)\n",
        "        txt = tweet.text\n",
        "        sleep(6)\n",
        "    except:\n",
        "        continue\n",
        "    txt = tweet.text\n",
        "    print(i, \":\", txt, \" ... label:\", labels[i])\n",
        "    valid_tweets.append(txt)\n",
        "    valid_labels.append(labels[i])"
      ],
      "metadata": {
        "id": "ixsEFYMjCKSr"
      },
      "execution_count": null,
      "outputs": []
    },
    {
      "cell_type": "code",
      "source": [
        "df = pd.DataFrame(list(zip(valid_tweets, valid_labels)), columns =['tweet', 'label'])"
      ],
      "metadata": {
        "id": "IuzYQ2WoUX4-"
      },
      "execution_count": null,
      "outputs": []
    },
    {
      "cell_type": "code",
      "source": [
        "df.to_csv('waseem_available.csv')"
      ],
      "metadata": {
        "id": "sa97nX6WXa_X"
      },
      "execution_count": null,
      "outputs": []
    },
    {
      "cell_type": "code",
      "source": [
        "df"
      ],
      "metadata": {
        "id": "fr4E03OSXu0U"
      },
      "execution_count": null,
      "outputs": []
    },
    {
      "cell_type": "code",
      "source": [
        ""
      ],
      "metadata": {
        "id": "vZeqOIBagHkX"
      },
      "execution_count": null,
      "outputs": []
    }
  ]
}