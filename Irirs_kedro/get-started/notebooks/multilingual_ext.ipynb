{
 "nbformat": 4,
 "nbformat_minor": 0,
 "metadata": {
  "colab": {
   "name": "Untitled3.ipynb",
   "provenance": []
  },
  "kernelspec": {
   "name": "python3",
   "display_name": "Python 3"
  },
  "language_info": {
   "name": "python"
  }
 },
 "cells": [
  {
   "cell_type": "code",
   "execution_count": 4,
   "metadata": {
    "colab": {
     "base_uri": "https://localhost:8080/",
     "height": 553
    },
    "id": "KOlOmwIysm1A",
    "outputId": "576662ab-e562-422e-9527-c7a3441b2ce7"
   },
   "outputs": [
    {
     "data": {
      "text/plain": "                                                text  task1  task2  language\n0  hate wen females hit ah nigga with tht bro 😂😂,...      0      3         0\n1  RT @airjunebug: When you're from the Bay but y...      0      3         0\n2  RT @DonaldJTrumpJr: Dear Democrats: The Americ...      1      1         0\n3  RT @SheLoveTimothy: He ain’t on drugs he just ...      0      3         0\n4  RT @TavianJordan: Summer ‘19 I’m coming for yo...      1      1         0",
      "text/html": "<div>\n<style scoped>\n    .dataframe tbody tr th:only-of-type {\n        vertical-align: middle;\n    }\n\n    .dataframe tbody tr th {\n        vertical-align: top;\n    }\n\n    .dataframe thead th {\n        text-align: right;\n    }\n</style>\n<table border=\"1\" class=\"dataframe\">\n  <thead>\n    <tr style=\"text-align: right;\">\n      <th></th>\n      <th>text</th>\n      <th>task1</th>\n      <th>task2</th>\n      <th>language</th>\n    </tr>\n  </thead>\n  <tbody>\n    <tr>\n      <th>0</th>\n      <td>hate wen females hit ah nigga with tht bro 😂😂,...</td>\n      <td>0</td>\n      <td>3</td>\n      <td>0</td>\n    </tr>\n    <tr>\n      <th>1</th>\n      <td>RT @airjunebug: When you're from the Bay but y...</td>\n      <td>0</td>\n      <td>3</td>\n      <td>0</td>\n    </tr>\n    <tr>\n      <th>2</th>\n      <td>RT @DonaldJTrumpJr: Dear Democrats: The Americ...</td>\n      <td>1</td>\n      <td>1</td>\n      <td>0</td>\n    </tr>\n    <tr>\n      <th>3</th>\n      <td>RT @SheLoveTimothy: He ain’t on drugs he just ...</td>\n      <td>0</td>\n      <td>3</td>\n      <td>0</td>\n    </tr>\n    <tr>\n      <th>4</th>\n      <td>RT @TavianJordan: Summer ‘19 I’m coming for yo...</td>\n      <td>1</td>\n      <td>1</td>\n      <td>0</td>\n    </tr>\n  </tbody>\n</table>\n</div>"
     },
     "execution_count": 4,
     "metadata": {},
     "output_type": "execute_result"
    }
   ],
   "source": [
    "import pandas as pd\n",
    "import copy\n",
    "from sklearn.preprocessing import LabelEncoder\n",
    "\n",
    "# https://github.com/suman101112/hasoc-fire-2020/blob/main/2020/hasoc_2020_en_train_new_a.xlsx?raw=true\n",
    "url_english_train = 'https://github.com/suman101112/hasoc-fire-2020/blob/main/2020/hasoc_2020_en_train_new_a.xlsx?raw=true'\n",
    "url_german_train = 'https://github.com/suman101112/hasoc-fire-2020/blob/main/2020/hasoc_2020_de_train_new_a.xlsx?raw=true'\n",
    "url_hindi_train = 'https://github.com/suman101112/hasoc-fire-2020/blob/main/2020/hasoc_2020_hi_train_a.xlsx?raw=true'\n",
    "url_english_test = 'https://github.com/suman101112/hasoc-fire-2020/blob/main/2020/english_test_1509.csv?raw=true'\n",
    "url_german_test = 'https://github.com/suman101112/hasoc-fire-2020/blob/main/2020/german_test_1509.csv?raw=true'\n",
    "url_hindi_test = 'https://github.com/suman101112/hasoc-fire-2020/blob/main/2020/hindi_test_1509.csv?raw=true'\n",
    "\n",
    "data_en = pd.read_excel(url_english_train)\n",
    "data_en_test = pd.read_csv(url_english_test)\n",
    "\n",
    "data_de = pd.read_excel(url_german_train)\n",
    "data_de_test = pd.read_csv(url_german_test)\n",
    "\n",
    "data_hi = pd.read_excel(url_hindi_train)\n",
    "data_hi_test = pd.read_csv(url_hindi_test)\n",
    "\n",
    "data_en['language'] = 0\n",
    "data_en_test['language'] = 0\n",
    "\n",
    "data_de['language'] = 1\n",
    "data_de_test['language'] = 1\n",
    "\n",
    "data_hi['language'] = 2\n",
    "data_hi_test['language'] = 2\n",
    "\n",
    "data = copy.deepcopy(data_en)\n",
    "data = data.append(data_de, ignore_index=True)\n",
    "data = data.append(data_hi, ignore_index=True)\n",
    "data_test = copy.deepcopy(data_en_test)\n",
    "data_test = data_test.append(data_de_test, ignore_index=True)\n",
    "data_test = data_test.append(data_hi_test, ignore_index=True)\n",
    "\n",
    "data = pd.concat([data, data_test])\n",
    "\n",
    "labels = data[['task1', 'task2', 'language']]\n",
    "le = LabelEncoder()\n",
    "data['task1'] = le.fit_transform(labels['task1'])\n",
    "le = LabelEncoder()\n",
    "data['task2'] = le.fit_transform(labels['task2'])\n",
    "\n",
    "data = data.drop(columns=['tweet_id','ID'])\n",
    "\n",
    "data.head()"
   ]
  },
  {
   "cell_type": "code",
   "source": [
    "data.to_csv('multilingual.csv')"
   ],
   "metadata": {
    "id": "p9h98cbLwLbS",
    "outputId": "4cb6931c-2735-4a72-c657-7d3d8f734bc9",
    "colab": {
     "base_uri": "https://localhost:8080/",
     "height": 424
    }
   },
   "execution_count": 5,
   "outputs": []
  }
 ]
}